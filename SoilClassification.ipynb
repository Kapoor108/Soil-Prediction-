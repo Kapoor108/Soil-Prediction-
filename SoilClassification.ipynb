{
 "cells": [
  {
   "cell_type": "code",
   "execution_count": 2,
   "id": "be33a377-8d57-4378-abd3-e0d940a36a21",
   "metadata": {},
   "outputs": [],
   "source": [
    "import os\n",
    "import numpy as np\n",
    "import pandas as pd\n",
    "from PIL import Image\n",
    "from tqdm import tqdm\n",
    "import matplotlib.pyplot as plt\n",
    "\n",
    "import torch\n",
    "import torch.nn as nn\n",
    "import torch.optim as optim\n",
    "from torchvision import transforms\n",
    "from torch.utils.data import Dataset, DataLoader\n"
   ]
  },
  {
   "cell_type": "code",
   "execution_count": 3,
   "id": "b88f3118-5003-4ac2-b975-e75e9719973c",
   "metadata": {},
   "outputs": [],
   "source": [
    "IMG_SIZE = 128\n",
    "BATCH_SIZE = 32\n",
    "EPOCHS = 20\n",
    "DEVICE = torch.device(\"cuda\" if torch.cuda.is_available() else \"cpu\")\n",
    "\n",
    "transform = transforms.Compose([\n",
    "    transforms.Grayscale(),\n",
    "    transforms.Resize((IMG_SIZE, IMG_SIZE)),\n",
    "    transforms.ToTensor()\n",
    "])\n"
   ]
  },
  {
   "cell_type": "code",
   "execution_count": 4,
   "id": "54ae935d-40a7-40e5-b54d-0c26d61c7679",
   "metadata": {},
   "outputs": [],
   "source": [
    "class ImageDataset(Dataset):\n",
    "    def __init__(self, folder_path, image_ids, transform=None):\n",
    "        self.folder_path = folder_path\n",
    "        self.image_ids = image_ids\n",
    "        self.transform = transform\n",
    "\n",
    "    def __len__(self):\n",
    "        return len(self.image_ids)\n",
    "\n",
    "    def __getitem__(self, idx):\n",
    "        img_name = self.image_ids[idx]\n",
    "        img_path = os.path.join(self.folder_path, img_name)\n",
    "        image = Image.open(img_path).convert('RGB')\n",
    "        if self.transform:\n",
    "            image = self.transform(image)\n",
    "        return image, img_name\n"
   ]
  },
  {
   "cell_type": "code",
   "execution_count": 5,
   "id": "ebd37929-c7bc-4226-a7fa-72e5ba0c9232",
   "metadata": {},
   "outputs": [],
   "source": [
    "train_df = pd.read_csv(\"train_labels.csv\")\n",
    "train_ids = train_df['image_id'].tolist()\n",
    "\n",
    "train_dataset = ImageDataset(\"train\", train_ids, transform=transform)\n",
    "train_loader = DataLoader(train_dataset, batch_size=BATCH_SIZE, shuffle=True)\n"
   ]
  },
  {
   "cell_type": "code",
   "execution_count": 6,
   "id": "d5ceeb75-c3ab-486f-b7dd-18b4bba4c586",
   "metadata": {},
   "outputs": [],
   "source": [
    "class Autoencoder(nn.Module):\n",
    "    def __init__(self):\n",
    "        super(Autoencoder, self).__init__()\n",
    "        self.encoder = nn.Sequential(\n",
    "            nn.Conv2d(1, 16, 3, stride=2, padding=1),  # [16, 64, 64]\n",
    "            nn.ReLU(),\n",
    "            nn.Conv2d(16, 32, 3, stride=2, padding=1),  # [32, 32, 32]\n",
    "            nn.ReLU(),\n",
    "            nn.Conv2d(32, 64, 3, stride=2, padding=1),  # [64, 16, 16]\n",
    "            nn.ReLU()\n",
    "        )\n",
    "        self.decoder = nn.Sequential(\n",
    "            nn.ConvTranspose2d(64, 32, 3, stride=2, padding=1, output_padding=1),  # [32, 32, 32]\n",
    "            nn.ReLU(),\n",
    "            nn.ConvTranspose2d(32, 16, 3, stride=2, padding=1, output_padding=1),  # [16, 64, 64]\n",
    "            nn.ReLU(),\n",
    "            nn.ConvTranspose2d(16, 1, 3, stride=2, padding=1, output_padding=1),  # [1, 128, 128]\n",
    "            nn.Sigmoid()\n",
    "        )\n",
    "\n",
    "    def forward(self, x):\n",
    "        x = self.encoder(x)\n",
    "        x = self.decoder(x)\n",
    "        return x\n",
    "\n",
    "model = Autoencoder().to(DEVICE)\n"
   ]
  },
  {
   "cell_type": "code",
   "execution_count": 7,
   "id": "2721500b-4e38-4435-84ff-e587a7dc855f",
   "metadata": {},
   "outputs": [
    {
     "name": "stdout",
     "output_type": "stream",
     "text": [
      "Epoch 1/20, Loss: 0.0481\n",
      "Epoch 2/20, Loss: 0.0120\n",
      "Epoch 3/20, Loss: 0.0076\n",
      "Epoch 4/20, Loss: 0.0067\n",
      "Epoch 5/20, Loss: 0.0061\n",
      "Epoch 6/20, Loss: 0.0055\n",
      "Epoch 7/20, Loss: 0.0052\n",
      "Epoch 8/20, Loss: 0.0048\n",
      "Epoch 9/20, Loss: 0.0046\n",
      "Epoch 10/20, Loss: 0.0044\n",
      "Epoch 11/20, Loss: 0.0042\n",
      "Epoch 12/20, Loss: 0.0042\n",
      "Epoch 13/20, Loss: 0.0041\n",
      "Epoch 14/20, Loss: 0.0040\n",
      "Epoch 15/20, Loss: 0.0039\n",
      "Epoch 16/20, Loss: 0.0039\n",
      "Epoch 17/20, Loss: 0.0038\n",
      "Epoch 18/20, Loss: 0.0037\n",
      "Epoch 19/20, Loss: 0.0037\n",
      "Epoch 20/20, Loss: 0.0036\n"
     ]
    }
   ],
   "source": [
    "criterion = nn.MSELoss()\n",
    "optimizer = optim.Adam(model.parameters(), lr=1e-3)\n",
    "\n",
    "for epoch in range(EPOCHS):\n",
    "    model.train()\n",
    "    total_loss = 0\n",
    "    for imgs, _ in train_loader:\n",
    "        imgs = imgs.to(DEVICE)\n",
    "        output = model(imgs)\n",
    "        loss = criterion(output, imgs)\n",
    "\n",
    "        optimizer.zero_grad()\n",
    "        loss.backward()\n",
    "        optimizer.step()\n",
    "\n",
    "        total_loss += loss.item()\n",
    "\n",
    "    print(f\"Epoch {epoch+1}/{EPOCHS}, Loss: {total_loss/len(train_loader):.4f}\")\n"
   ]
  },
  {
   "cell_type": "code",
   "execution_count": 8,
   "id": "f81a5302-a6ef-435d-993e-a91e157adf71",
   "metadata": {},
   "outputs": [
    {
     "name": "stderr",
     "output_type": "stream",
     "text": [
      "100%|████████████████████████████████████████████████████████████████████████████████| 967/967 [00:12<00:00, 78.49it/s]\n"
     ]
    }
   ],
   "source": [
    "test_ids_df = pd.read_csv(\"test_ids.csv\")\n",
    "test_ids = test_ids_df['image_id'].tolist()\n",
    "\n",
    "test_dataset = ImageDataset(\"test\", test_ids, transform=transform)\n",
    "test_loader = DataLoader(test_dataset, batch_size=1, shuffle=False)\n",
    "\n",
    "model.eval()\n",
    "reconstruction_errors = []\n",
    "image_names = []\n",
    "\n",
    "with torch.no_grad():\n",
    "    for img, name in tqdm(test_loader):\n",
    "        img = img.to(DEVICE)\n",
    "        output = model(img)\n",
    "        loss = torch.mean((output - img) ** 2).item()\n",
    "        reconstruction_errors.append(loss)\n",
    "        image_names.append(name[0])\n"
   ]
  },
  {
   "cell_type": "code",
   "execution_count": 9,
   "id": "b24eff50-ad00-41cf-be5f-f255210d4cb4",
   "metadata": {},
   "outputs": [
    {
     "data": {
      "image/png": "[encoded data removed]",
      "text/plain": [
       "<Figure size 640x480 with 1 Axes>"
      ]
     },
     "metadata": {},
     "output_type": "display_data"
    }
   ],
   "source": [
    "# Use 95th percentile threshold\n",
    "threshold = np.percentile(reconstruction_errors, 95)\n",
    "\n",
    "# Predict: 1 = Soil, 0 = Non-soil\n",
    "predictions = [1 if e < threshold else 0 for e in reconstruction_errors]\n",
    "\n",
    "# Optional: Visualize\n",
    "plt.hist(reconstruction_errors, bins=50)\n",
    "plt.axvline(threshold, color='red')\n",
    "plt.title(\"Reconstruction Error Distribution\")\n",
    "plt.show()\n"
   ]
  },
  {
   "cell_type": "code",
   "execution_count": 11,
   "id": "b8851a94-60c3-42c2-b277-7bc81e68d12e",
   "metadata": {},
   "outputs": [
    {
     "name": "stdout",
     "output_type": "stream",
     "text": [
      "✅ Submission_v2.csv saved\n"
     ]
    }
   ],
   "source": [
    "submission = pd.DataFrame({\n",
    "    \"image_id\": image_names,\n",
    "    \"label\": predictions\n",
    "})\n",
    "submission.to_csv(\"Submission_v2.csv\", index=False)\n",
    "print(\"✅ Submission_v2.csv saved\")\n"
   ]
  },
  {
   "cell_type": "code",
   "execution_count": null,
   "id": "5915cc64-7d86-4999-a0b7-eca858f16263",
   "metadata": {},
   "outputs": [],
   "source": []
  }
 ],
 "metadata": {
  "kernelspec": {
   "display_name": "Python 3 (ipykernel)",
   "language": "python",
   "name": "python3"
  },
  "language_info": {
   "codemirror_mode": {
    "name": "ipython",
    "version": 3
   },
   "file_extension": ".py",
   "mimetype": "text/x-python",
   "name": "python",
   "nbconvert_exporter": "python",
   "pygments_lexer": "ipython3",
   "version": "3.13.1"
  }
 },
 "nbformat": 4,
 "nbformat_minor": 5
}
